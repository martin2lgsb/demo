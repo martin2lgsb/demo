{
 "cells": [
  {
   "cell_type": "code",
   "execution_count": 18,
   "metadata": {},
   "outputs": [],
   "source": [
    "import xlrd, xlwt"
   ]
  },
  {
   "cell_type": "code",
   "execution_count": 156,
   "metadata": {},
   "outputs": [
    {
     "name": "stdout",
     "output_type": "stream",
     "text": [
      "['暖场音乐', '暖场视频', '交响乐', '交响乐', '退场', '视频', '主持人', '视频', '视频', '主持人', '领导', '领导致辞', '主持人', '领导', '领导致辞', '主持人', '领导上场', '领导致辞', '主持人', '领导上场', '颁奖', '领导讲话', '主持人', '获奖者', '颁奖者', '颁奖环节', '合影', '主持人', '获奖者', '颁奖者', '颁奖环节', '合影', '主持人', '获奖者', '颁奖者', '颁奖环节', '合影', '主持人', '获奖者', '颁奖者', '颁奖环节', '合影', '主持人', '获奖者', '颁奖者', '颁奖环节', '合影', '主持人', '获奖者', '颁奖者', '颁奖环节', '合影', '主持人', '获奖者', '颁奖者', '颁奖环节', '合影', '主持人', '学校演员', '主持人', '领导上场', '基金会领导', '主持人', '诗朗诵', '主持人', '集体宣誓', '主持人', '主持人', '主持人', '']\n",
      "['灯光（舞台灯）', '灯光（场灯）']\n"
     ]
    }
   ],
   "source": [
    "data = xlrd.open_workbook('../../Downloads/9_rundown_light.xls')\n",
    "table = data.sheets()[0]\n",
    "nrows = table.nrows\n",
    "ncols = table.ncols\n",
    "colnames = table.row_values(1)\n",
    "activitys = table.col_values(3)\n",
    "print(activitys[2:]);\n",
    "print(colnames[8:10])"
   ]
  },
  {
   "cell_type": "code",
   "execution_count": 157,
   "metadata": {},
   "outputs": [
    {
     "name": "stdout",
     "output_type": "stream",
     "text": [
      "['诗朗诵', '领导讲话', '颁奖', '基金会领导', '颁奖者', '合影', '暖场视频', '获奖者', '领导', '学校演员', '视频', '颁奖环节', '主持人', '领导致辞', '交响乐', '集体宣誓', '暖场音乐', '退场', '领导上场']\n",
      "{'诗朗诵': ['4', '2'], '领导讲话': ['4', '2'], '颁奖': ['5', '2'], '基金会领导': ['4', '2'], '颁奖者': ['5', '2'], '合影': ['4', '2'], '暖场视频': ['2', '4'], '获奖者': ['5', '2'], '领导': ['4', '2'], '学校演员': ['4', '2'], '视频': ['2', '2'], '颁奖环节': ['5', '2'], '主持人': ['4', '2'], '领导致辞': ['4', '2'], '交响乐': ['4', '2'], '集体宣誓': ['5', '4'], '暖场音乐': ['2', '4'], '退场': ['3', '2'], '领导上场': ['4', '2']}\n"
     ]
    }
   ],
   "source": [
    "types = list(set(activitys[2:]))\n",
    "types.remove('')\n",
    "print(types)\n",
    "a = {}\n",
    "for i in types:\n",
    "    if i.find(\"领导\") >= 0: a[i] = ['4', '2']\n",
    "    elif i.find(\"奖\") >= 0: a[i] = ['5', '2']\n",
    "    elif i.find(\"视频\") >= 0: a[i] = ['2', '2']\n",
    "    elif i.find(\"宣誓\") >= 0: a[i] = ['5', '4']\n",
    "    elif i.find(\"退场\") >= 0: a[i] = ['3', '2']\n",
    "    else: a[i] = ['4', '2']\n",
    "\n",
    "    if i.find(\"暖场\") >= 0: a[i] = ['2', '4']\n",
    "        \n",
    "print(a)\n",
    "# for i in activitys[2:]: \n",
    "#     print(a[i][0])"
   ]
  },
  {
   "cell_type": "code",
   "execution_count": 161,
   "metadata": {},
   "outputs": [],
   "source": [
    "wb = xlwt.Workbook()\n",
    "ws = wb.add_sheet('light')\n",
    "ws.write(0,1, colnames[8])\n",
    "ws.write(0,2, colnames[9])\n",
    "j = 1\n",
    "for i in activitys[2:]: \n",
    "    if i != '':\n",
    "        ws.write(j,0, i)\n",
    "        ws.write(j,1, int(a[i][0])) # '●'*int(a[i][0])\n",
    "        ws.write(j,2, int(a[i][1])) # '●'*int(a[i][1])\n",
    "        j += 1\n",
    "wb.save('light_num.xls') # light_str.xls"
   ]
  }
 ],
 "metadata": {
  "kernelspec": {
   "display_name": "Python 3",
   "language": "python",
   "name": "python3"
  },
  "language_info": {
   "codemirror_mode": {
    "name": "ipython",
    "version": 3
   },
   "file_extension": ".py",
   "mimetype": "text/x-python",
   "name": "python",
   "nbconvert_exporter": "python",
   "pygments_lexer": "ipython3",
   "version": "3.6.2"
  }
 },
 "nbformat": 4,
 "nbformat_minor": 2
}
